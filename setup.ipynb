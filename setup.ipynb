{
 "cells": [
  {
   "cell_type": "markdown",
   "metadata": {
    "colab_type": "text",
    "id": "zAa_n9cs0zta"
   },
   "source": [
    "# Preparation"
   ]
  },
  {
   "cell_type": "code",
   "execution_count": 1,
   "metadata": {
    "colab": {
     "autoexec": {
      "startup": false,
      "wait_interval": 0
     }
    },
    "colab_type": "code",
    "id": "bzkBSlC4Aznp"
   },
   "outputs": [],
   "source": [
    "import time\n",
    "prep_start_time = time.time()"
   ]
  },
  {
   "cell_type": "code",
   "execution_count": 2,
   "metadata": {
    "colab": {
     "autoexec": {
      "startup": false,
      "wait_interval": 0
     }
    },
    "colab_type": "code",
    "id": "Qc059TLShCap"
   },
   "outputs": [],
   "source": [
    "!mkdir pretrained\n",
    "!mkdir dataset\n",
    "!mkdir logs"
   ]
  },
  {
   "cell_type": "code",
   "execution_count": 3,
   "metadata": {
    "colab": {
     "autoexec": {
      "startup": false,
      "wait_interval": 0
     }
    },
    "colab_type": "code",
    "id": "ZjcSEs70k18U"
   },
   "outputs": [
    {
     "name": "stdout",
     "output_type": "stream",
     "text": [
      "rm: cannot remove 'pretrained/mobilenet': No such file or directory\n",
      "--2021-05-19 14:02:37--  https://storage.googleapis.com/mobilenet_v2/checkpoints/mobilenet_v2_1.0_224.tgz\n",
      "Resolving storage.googleapis.com (storage.googleapis.com)... 142.250.196.144, 172.217.25.80, 172.217.25.240, ...\n",
      "Connecting to storage.googleapis.com (storage.googleapis.com)|142.250.196.144|:443... connected.\n",
      "HTTP request sent, awaiting response... 200 OK\n",
      "Length: 78306834 (75M) [application/x-tar]\n",
      "Saving to: ‘pretrained/mobilenet_v2_1.0_224.tgz’\n",
      "\n",
      "pretrained/mobilene 100%[===================>]  74.68M  9.05MB/s    in 7.9s    \n",
      "\n",
      "2021-05-19 14:02:46 (9.49 MB/s) - ‘pretrained/mobilenet_v2_1.0_224.tgz’ saved [78306834/78306834]\n",
      "\n",
      "./\n",
      "./mobilenet_v2_1.0_224_eval.pbtxt\n",
      "./mobilenet_v2_1.0_224.ckpt.data-00000-of-00001\n",
      "./mobilenet_v2_1.0_224_frozen.pb\n",
      "./mobilenet_v2_1.0_224.tflite\n",
      "./mobilenet_v2_1.0_224_info.txt\n",
      "./mobilenet_v2_1.0_224.ckpt.meta\n",
      "./mobilenet_v2_1.0_224.ckpt.index\n"
     ]
    }
   ],
   "source": [
    "!rm -r pretrained/mobilenet\n",
    "!mkdir pretrained/mobilenet\n",
    "!wget https://storage.googleapis.com/mobilenet_v2/checkpoints/mobilenet_v2_1.0_224.tgz -O pretrained/mobilenet_v2_1.0_224.tgz\n",
    "!tar -xvf pretrained/mobilenet_v2_1.0_224.tgz -C pretrained/mobilenet/\n",
    "!rm pretrained/mobilenet_v2_1.0_224.tgz"
   ]
  },
  {
   "cell_type": "code",
   "execution_count": 4,
   "metadata": {
    "colab": {
     "autoexec": {
      "startup": false,
      "wait_interval": 0
     }
    },
    "colab_type": "code",
    "id": "ZqeUuBA-_7o6"
   },
   "outputs": [
    {
     "name": "stdout",
     "output_type": "stream",
     "text": [
      "rm: cannot remove 'pretrained/resnet': No such file or directory\n",
      "--2021-05-19 14:02:52--  http://download.tensorflow.org/models/resnet_v2_101_2017_04_14.tar.gz\n",
      "Resolving download.tensorflow.org (download.tensorflow.org)... 172.217.175.48, 2404:6800:4004:822::2010\n",
      "Connecting to download.tensorflow.org (download.tensorflow.org)|172.217.175.48|:80... connected.\n",
      "HTTP request sent, awaiting response... 200 OK\n",
      "Length: 499948384 (477M) [application/x-tar]\n",
      "Saving to: ‘pretrained/resnet_v2_101_2017_04_14.tar.gz’\n",
      "\n",
      "pretrained/resnet_v 100%[===================>] 476.79M  6.37MB/s    in 82s     \n",
      "\n",
      "2021-05-19 14:04:15 (5.82 MB/s) - ‘pretrained/resnet_v2_101_2017_04_14.tar.gz’ saved [499948384/499948384]\n",
      "\n",
      "resnet_v2_101.ckpt\n",
      "train.graph\n",
      "eval.graph\n"
     ]
    }
   ],
   "source": [
    "!rm -r pretrained/resnet\n",
    "!mkdir pretrained/resnet\n",
    "!wget http://download.tensorflow.org/models/resnet_v2_101_2017_04_14.tar.gz -O pretrained/resnet_v2_101_2017_04_14.tar.gz\n",
    "!tar -xvf pretrained/resnet_v2_101_2017_04_14.tar.gz -C pretrained/resnet/\n",
    "!rm pretrained/resnet_v2_101_2017_04_14.tar.gz"
   ]
  },
  {
   "cell_type": "code",
   "execution_count": null,
   "metadata": {},
   "outputs": [],
   "source": [
    "!mkdir dataset/coco\n",
    "!wget http://images.cocodataset.org/zips/train2017.zip -O dataset/coco/train2017.zip\n",
    "!wget http://images.cocodataset.org/zips/val2017.zip -O dataset/coco/val2017.zip\n",
    "!wget http://images.cocodataset.org/annotations/annotations_trainval2017.zip -O dataset/coco/annotations_trainval2017.zip\n",
    "!unzip -q \"dataset/coco/*.zip\""
   ]
  },
  {
   "cell_type": "code",
   "execution_count": null,
   "metadata": {},
   "outputs": [],
   "source": [
    "!pip install -r requirements.txt"
   ]
  },
  {
   "cell_type": "code",
   "execution_count": null,
   "metadata": {},
   "outputs": [],
   "source": []
  }
 ],
 "metadata": {
  "accelerator": "GPU",
  "colab": {
   "collapsed_sections": [],
   "default_view": {},
   "name": "mobilenet-single.ipynb",
   "private_outputs": true,
   "provenance": [],
   "version": "0.3.2",
   "views": {}
  },
  "kernelspec": {
   "display_name": "Python 3",
   "language": "python",
   "name": "python3"
  },
  "language_info": {
   "codemirror_mode": {
    "name": "ipython",
    "version": 3
   },
   "file_extension": ".py",
   "mimetype": "text/x-python",
   "name": "python",
   "nbconvert_exporter": "python",
   "pygments_lexer": "ipython3",
   "version": "3.6.9"
  }
 },
 "nbformat": 4,
 "nbformat_minor": 1
}
